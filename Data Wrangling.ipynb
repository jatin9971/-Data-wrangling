{
 "cells": [
  {
   "cell_type": "code",
   "execution_count": 267,
   "metadata": {},
   "outputs": [],
   "source": [
    "import numpy as np\n",
    "import pandas as pd"
   ]
  },
  {
   "cell_type": "markdown",
   "metadata": {},
   "source": [
    "# Summary of the data\n",
    "\n",
    "This is a dataset about 500 patients of which 350 patients participated in a clinical trial. None of the patients were using Novodra (a popular injectable insulin) or Auralin (the oral insulin being researched) as their primary source of insulin before. All were experiencing elevated HbA1c levels.\n",
    "\n",
    "All 350 patients were treated with Novodra to establish a baseline HbA1c level and insulin dose. After 4 weeks, which isn’t enough time to capture all the change in HbA1c that can be attributed by the switch to Auralin or Novodra:\n",
    "\n",
    "- 175 patients switched to Auralin for 24 weeks\n",
    "- 175 patients continued using Novodra for 24 weeks\n",
    "\n",
    "Data about patients feeling some adverse effects is also recorded.\n",
    "\n",
    "\n",
    "### 2. Column descriptions\n",
    "\n",
    "#### **Table** -> `patients`:\n",
    "\n",
    "- `patient_id`: the unique identifier for each patient in the Master Patient Index (i.e. patient database) of the pharmaceutical company that is producing Auralin\n",
    "- `assigned_sex`: the assigned sex of each patient at birth (male or female)\n",
    "- `given_name`: the given name (i.e. first name) of each patient\n",
    "- `surname`: the surname (i.e. last name) of each patient\n",
    "- `address`: the main address for each patient\n",
    "- `city`: the corresponding city for the main address of each patient\n",
    "- `state`: the corresponding state for the main address of each patient\n",
    "- `zip_code`: the corresponding zip code for the main address of each patient\n",
    "- `country`: the corresponding country for the main address of each patient (all United states for this clinical trial)\n",
    "- `contact`: phone number and email information for each patient\n",
    "- `birthdate`: the date of birth of each patient (month/day/year). The inclusion criteria for this clinical trial is age >= 18 (there is no maximum age because diabetes is a growing problem among the elderly population)\n",
    "- `weight`: the weight of each patient in pounds (lbs)\n",
    "- `height`: the height of each patient in inches (in)\n",
    "- `bmi`: the Body Mass Index (BMI) of each patient. BMI is a simple calculation using a person's height and weight. The formula is BMI = kg/m2 where kg is a person's weight in kilograms and m2 is their height in metres squared. A BMI of 25.0 or more is overweight, while the healthy range is 18.5 to 24.9. The inclusion criteria for this clinical trial is 16 >= BMI >= 38.\n",
    "\n",
    "#### **Table** -> `treatments` and `treatment_cut`:\n",
    "\n",
    "- `given_name`: the given name of each patient in the Master Patient Index that took part in the clinical trial\n",
    "- `surname`: the surname of each patient in the Master Patient Index that took part in the clinical trial\n",
    "- `auralin`: the baseline median daily dose of insulin from the week prior to switching to Auralin (the number before the dash) and the ending median daily dose of insulin at the end of the 24 weeks of treatment measured over the 24th week of treatment (the number after the dash). Both are measured in units (shortform 'u'), which is the international unit of measurement and the standard measurement for insulin.\n",
    "- `novodra`: same as above, except for patients that continued treatment with Novodra\n",
    "- `hba1c_start`: the patient's HbA1c level at the beginning of the first week of treatment. HbA1c stands for Hemoglobin A1c. The HbA1c test measures what the average blood sugar has been over the past three months. It is thus a powerful way to get an overall sense of how well diabetes has been controlled. Everyone with diabetes should have this test 2 to 4 times per year. Measured in %.\n",
    "- `hba1c_end`: the patient's HbA1c level at the end of the last week of treatment\n",
    "- `hba1c_change`: the change in the patient's HbA1c level from the start of treatment to the end, i.e., hba1c_start - hba1c_end. For Auralin to be deemed effective, it must be \"noninferior\" to Novodra, the current standard for insulin. This \"noninferiority\" is statistically defined as the upper bound of the 95% confidence interval being less than 0.4% for the difference between the mean HbA1c changes for Novodra and Auralin (i.e. Novodra minus Auralin).\n",
    "\n",
    "\n",
    "#### **Table** -> `adverse_reactions`\n",
    "\n",
    "- `given_name`: the given name of each patient in the Master Patient Index that took part in the clinical trial and had an adverse reaction (includes both patients treated Auralin and Novodra)\n",
    "- `surname`: the surname of each patient in the Master Patient Index that took part in the clinical trial and had an adverse reaction (includes both patients treated Auralin and Novodra)\n",
    "- `adverse_reaction`: the adverse reaction reported by the patient"
   ]
  },
  {
   "cell_type": "code",
   "execution_count": 268,
   "metadata": {},
   "outputs": [],
   "source": [
    "patients = pd.read_csv('D:\\Data science\\csv\\data_wrangling\\patients.csv')\n",
    "adverse_reactions = pd.read_csv('D:/Data science/csv/data_wrangling/adverse_reactions.csv')\n",
    "treatment = pd.read_csv('D:/Data science/csv/data_wrangling/treatments.csv')\n",
    "treatment_cut = pd.read_csv('D:/Data science/csv/data_wrangling/treatments_cut.csv')"
   ]
  },
  {
   "cell_type": "code",
   "execution_count": 269,
   "metadata": {},
   "outputs": [],
   "source": [
    "# combining all the table into a single excel file to get a better view\n",
    "with pd.ExcelWriter('clinical_trials.xlsx') as writer:\n",
    "    patients.to_excel(writer,sheet_name='patients')\n",
    "    treatment.to_excel(writer,sheet_name='treatment')\n",
    "    treatment_cut.to_excel(writer,sheet_name='treatment_cut')\n",
    "    adverse_reactions.to_excel(writer,sheet_name='adverse_reactions')"
   ]
  },
  {
   "cell_type": "code",
   "execution_count": 270,
   "metadata": {},
   "outputs": [],
   "source": [
    "# creating copies of all the tables we have\n",
    "patients_df = patients.copy()\n",
    "adverse_reactions_df = adverse_reactions.copy()\n",
    "treatment_df = treatment.copy()\n",
    "treatment_cut_df = treatment_cut.copy()"
   ]
  },
  {
   "cell_type": "markdown",
   "metadata": {},
   "source": [
    "# Functions we can use to get a view of our data\n",
    "\n",
    "- head and tail\n",
    "- sample\n",
    "- info\n",
    "- isnull\n",
    "- duplicated\n",
    "- describe"
   ]
  },
  {
   "cell_type": "code",
   "execution_count": 271,
   "metadata": {},
   "outputs": [
    {
     "name": "stdout",
     "output_type": "stream",
     "text": [
      "<class 'pandas.core.frame.DataFrame'>\n",
      "RangeIndex: 503 entries, 0 to 502\n",
      "Data columns (total 14 columns):\n",
      " #   Column        Non-Null Count  Dtype  \n",
      "---  ------        --------------  -----  \n",
      " 0   patient_id    503 non-null    int64  \n",
      " 1   assigned_sex  503 non-null    object \n",
      " 2   given_name    503 non-null    object \n",
      " 3   surname       503 non-null    object \n",
      " 4   address       491 non-null    object \n",
      " 5   city          491 non-null    object \n",
      " 6   state         491 non-null    object \n",
      " 7   zip_code      491 non-null    float64\n",
      " 8   country       491 non-null    object \n",
      " 9   contact       491 non-null    object \n",
      " 10  birthdate     503 non-null    object \n",
      " 11  weight        503 non-null    float64\n",
      " 12  height        503 non-null    int64  \n",
      " 13  bmi           503 non-null    float64\n",
      "dtypes: float64(3), int64(2), object(9)\n",
      "memory usage: 55.1+ KB\n"
     ]
    }
   ],
   "source": [
    "# checking for duplicate and null records in the data\n",
    "patients_df.info()"
   ]
  },
  {
   "cell_type": "code",
   "execution_count": 272,
   "metadata": {},
   "outputs": [],
   "source": [
    "# we found null values in address,city,state,zip code columns. There are two ways to treat null values either we can fill them with the help of fillna function or drop the null record.\n",
    "\n",
    "patients_df[patients_df['address'].isnull()]\n",
    "\n",
    "#dropping na columns\n",
    "patients_df.dropna(how='any',inplace=True)\n",
    "\n",
    "# checking for dupliacte records\n",
    "patients_df.duplicated().sum()\n",
    "\n",
    "# we can also check for duplicated columns through subset parameter of .duplicated\n",
    "patients_df[patients_df.duplicated(subset=['given_name','surname'])]\n",
    "\n",
    "# dopping the duplicated columns\n",
    "patients_df.drop(index=[237,244,251,277],inplace=True)\n"
   ]
  },
  {
   "cell_type": "code",
   "execution_count": 273,
   "metadata": {},
   "outputs": [],
   "source": [
    "# setting the index from columns 'patient_id' as all the ids are unqiue \n",
    "patients_df.set_index('patient_id',inplace=True)"
   ]
  },
  {
   "cell_type": "code",
   "execution_count": 274,
   "metadata": {},
   "outputs": [
    {
     "name": "stdout",
     "output_type": "stream",
     "text": [
      "<class 'pandas.core.frame.DataFrame'>\n",
      "Index: 350 entries, 0 to 69\n",
      "Data columns (total 7 columns):\n",
      " #   Column        Non-Null Count  Dtype  \n",
      "---  ------        --------------  -----  \n",
      " 0   given_name    350 non-null    object \n",
      " 1   surname       350 non-null    object \n",
      " 2   auralin       350 non-null    object \n",
      " 3   novodra       350 non-null    object \n",
      " 4   hba1c_start   350 non-null    float64\n",
      " 5   hba1c_end     350 non-null    float64\n",
      " 6   hba1c_change  213 non-null    float64\n",
      "dtypes: float64(3), object(4)\n",
      "memory usage: 21.9+ KB\n"
     ]
    }
   ],
   "source": [
    "# trial records are separated btw two tabels: treatment_df & treatment_cut_df. Hence we are combining them both\n",
    "treatment_df = pd.concat([treatment_df,treatment_cut_df])\n",
    "treatment_df.info()"
   ]
  },
  {
   "cell_type": "code",
   "execution_count": 275,
   "metadata": {},
   "outputs": [
    {
     "name": "stdout",
     "output_type": "stream",
     "text": [
      "<class 'pandas.core.frame.DataFrame'>\n",
      "Index: 350 entries, 0 to 69\n",
      "Data columns (total 7 columns):\n",
      " #   Column        Non-Null Count  Dtype  \n",
      "---  ------        --------------  -----  \n",
      " 0   given_name    350 non-null    object \n",
      " 1   surname       350 non-null    object \n",
      " 2   auralin       350 non-null    object \n",
      " 3   novodra       350 non-null    object \n",
      " 4   hba1c_start   350 non-null    float64\n",
      " 5   hba1c_end     350 non-null    float64\n",
      " 6   hba1c_change  213 non-null    float64\n",
      "dtypes: float64(3), object(4)\n",
      "memory usage: 21.9+ KB\n"
     ]
    }
   ],
   "source": [
    "# lets begin the analyis of the table by checking duplicate and null values\n",
    "\n",
    "treatment_df.info()"
   ]
  },
  {
   "cell_type": "code",
   "execution_count": 276,
   "metadata": {},
   "outputs": [],
   "source": [
    "# filling out the missing values in col hba1c_change\n",
    "treatment_df['hba1c_change']= treatment_df['hba1c_start'] - treatment_df['hba1c_end']"
   ]
  },
  {
   "cell_type": "code",
   "execution_count": 277,
   "metadata": {},
   "outputs": [],
   "source": [
    "# trail values is missing in alternate columns of auralin & novodra because one person is only gone through a single trial\n",
    "treatment_df = treatment_df.melt(id_vars=['given_name','surname','hba1c_start','hba1c_end','hba1c_change'])"
   ]
  },
  {
   "cell_type": "code",
   "execution_count": 278,
   "metadata": {},
   "outputs": [],
   "source": [
    "treatment_df = treatment_df[treatment_df['value'] != '-']"
   ]
  },
  {
   "cell_type": "code",
   "execution_count": 279,
   "metadata": {},
   "outputs": [],
   "source": [
    "# value column contains dosage amount at the start & at end of the trial so we can separate them in two different column\n",
    "\n",
    "treatment_df['start_dosage'] = treatment_df['value'].str.split('-').str.get(0)\n",
    "treatment_df['end_dosage']= treatment_df['value'].str.split('-').str.get(1)"
   ]
  },
  {
   "cell_type": "code",
   "execution_count": 280,
   "metadata": {},
   "outputs": [],
   "source": [
    "# dropping the orignal value column\n",
    "treatment_df.drop(columns='value',inplace=True)"
   ]
  },
  {
   "cell_type": "code",
   "execution_count": 281,
   "metadata": {},
   "outputs": [],
   "source": [
    "# removing the unit of dosage `u`\n",
    "treatment_df['start_dosage']= treatment_df['start_dosage'].str.replace('u','')\n",
    "treatment_df['end_dosage']= treatment_df['end_dosage'].str.replace('u','')"
   ]
  },
  {
   "cell_type": "code",
   "execution_count": 282,
   "metadata": {},
   "outputs": [
    {
     "data": {
      "text/plain": [
       "given_name      0\n",
       "surname         0\n",
       "hba1c_start     0\n",
       "hba1c_end       0\n",
       "hba1c_change    0\n",
       "variable        0\n",
       "start_dosage    0\n",
       "end_dosage      0\n",
       "dtype: int64"
      ]
     },
     "execution_count": 282,
     "metadata": {},
     "output_type": "execute_result"
    }
   ],
   "source": [
    "treatment_df.isnull().sum() # no null values in the column"
   ]
  },
  {
   "cell_type": "code",
   "execution_count": 289,
   "metadata": {},
   "outputs": [
    {
     "name": "stdout",
     "output_type": "stream",
     "text": [
      "<class 'pandas.core.frame.DataFrame'>\n",
      "RangeIndex: 350 entries, 0 to 349\n",
      "Data columns (total 9 columns):\n",
      " #   Column            Non-Null Count  Dtype  \n",
      "---  ------            --------------  -----  \n",
      " 0   given_name        350 non-null    object \n",
      " 1   surname           350 non-null    object \n",
      " 2   hba1c_start       350 non-null    float64\n",
      " 3   hba1c_end         350 non-null    float64\n",
      " 4   hba1c_change      350 non-null    float64\n",
      " 5   variable          350 non-null    object \n",
      " 6   start_dosage      350 non-null    int16  \n",
      " 7   end_dosage        350 non-null    int16  \n",
      " 8   adverse_reaction  35 non-null     object \n",
      "dtypes: float64(3), int16(2), object(4)\n",
      "memory usage: 20.6+ KB\n"
     ]
    }
   ],
   "source": [
    "# checking the data type of columns and changing if necessary\n",
    "treatment_df['start_dosage'] = treatment_df['start_dosage'].astype('int16')\n",
    "treatment_df['end_dosage'] = treatment_df['end_dosage'].astype('int16')\n",
    "treatment_df.info()"
   ]
  },
  {
   "cell_type": "code",
   "execution_count": 284,
   "metadata": {},
   "outputs": [
    {
     "data": {
      "text/html": [
       "<div>\n",
       "<style scoped>\n",
       "    .dataframe tbody tr th:only-of-type {\n",
       "        vertical-align: middle;\n",
       "    }\n",
       "\n",
       "    .dataframe tbody tr th {\n",
       "        vertical-align: top;\n",
       "    }\n",
       "\n",
       "    .dataframe thead th {\n",
       "        text-align: right;\n",
       "    }\n",
       "</style>\n",
       "<table border=\"1\" class=\"dataframe\">\n",
       "  <thead>\n",
       "    <tr style=\"text-align: right;\">\n",
       "      <th></th>\n",
       "      <th>given_name</th>\n",
       "      <th>surname</th>\n",
       "      <th>hba1c_start</th>\n",
       "      <th>hba1c_end</th>\n",
       "      <th>hba1c_change</th>\n",
       "      <th>variable</th>\n",
       "      <th>start_dosage</th>\n",
       "      <th>end_dosage</th>\n",
       "      <th>adverse_reaction</th>\n",
       "    </tr>\n",
       "  </thead>\n",
       "  <tbody>\n",
       "    <tr>\n",
       "      <th>0</th>\n",
       "      <td>veronika</td>\n",
       "      <td>jindrová</td>\n",
       "      <td>7.63</td>\n",
       "      <td>7.20</td>\n",
       "      <td>0.43</td>\n",
       "      <td>auralin</td>\n",
       "      <td>41</td>\n",
       "      <td>48</td>\n",
       "      <td>NaN</td>\n",
       "    </tr>\n",
       "    <tr>\n",
       "      <th>1</th>\n",
       "      <td>skye</td>\n",
       "      <td>gormanston</td>\n",
       "      <td>7.97</td>\n",
       "      <td>7.62</td>\n",
       "      <td>0.35</td>\n",
       "      <td>auralin</td>\n",
       "      <td>33</td>\n",
       "      <td>36</td>\n",
       "      <td>NaN</td>\n",
       "    </tr>\n",
       "    <tr>\n",
       "      <th>2</th>\n",
       "      <td>sophia</td>\n",
       "      <td>haugen</td>\n",
       "      <td>7.65</td>\n",
       "      <td>7.27</td>\n",
       "      <td>0.38</td>\n",
       "      <td>auralin</td>\n",
       "      <td>37</td>\n",
       "      <td>42</td>\n",
       "      <td>NaN</td>\n",
       "    </tr>\n",
       "    <tr>\n",
       "      <th>3</th>\n",
       "      <td>eddie</td>\n",
       "      <td>archer</td>\n",
       "      <td>7.89</td>\n",
       "      <td>7.55</td>\n",
       "      <td>0.34</td>\n",
       "      <td>auralin</td>\n",
       "      <td>31</td>\n",
       "      <td>38</td>\n",
       "      <td>NaN</td>\n",
       "    </tr>\n",
       "    <tr>\n",
       "      <th>4</th>\n",
       "      <td>asia</td>\n",
       "      <td>woźniak</td>\n",
       "      <td>7.76</td>\n",
       "      <td>7.37</td>\n",
       "      <td>0.39</td>\n",
       "      <td>auralin</td>\n",
       "      <td>30</td>\n",
       "      <td>36</td>\n",
       "      <td>NaN</td>\n",
       "    </tr>\n",
       "    <tr>\n",
       "      <th>...</th>\n",
       "      <td>...</td>\n",
       "      <td>...</td>\n",
       "      <td>...</td>\n",
       "      <td>...</td>\n",
       "      <td>...</td>\n",
       "      <td>...</td>\n",
       "      <td>...</td>\n",
       "      <td>...</td>\n",
       "      <td>...</td>\n",
       "    </tr>\n",
       "    <tr>\n",
       "      <th>345</th>\n",
       "      <td>christopher</td>\n",
       "      <td>woodward</td>\n",
       "      <td>7.51</td>\n",
       "      <td>7.06</td>\n",
       "      <td>0.45</td>\n",
       "      <td>novodra</td>\n",
       "      <td>55</td>\n",
       "      <td>51</td>\n",
       "      <td>nausea</td>\n",
       "    </tr>\n",
       "    <tr>\n",
       "      <th>346</th>\n",
       "      <td>maret</td>\n",
       "      <td>sultygov</td>\n",
       "      <td>7.67</td>\n",
       "      <td>7.30</td>\n",
       "      <td>0.37</td>\n",
       "      <td>novodra</td>\n",
       "      <td>26</td>\n",
       "      <td>23</td>\n",
       "      <td>NaN</td>\n",
       "    </tr>\n",
       "    <tr>\n",
       "      <th>347</th>\n",
       "      <td>lixue</td>\n",
       "      <td>hsueh</td>\n",
       "      <td>9.21</td>\n",
       "      <td>8.80</td>\n",
       "      <td>0.41</td>\n",
       "      <td>novodra</td>\n",
       "      <td>22</td>\n",
       "      <td>23</td>\n",
       "      <td>injection site discomfort</td>\n",
       "    </tr>\n",
       "    <tr>\n",
       "      <th>348</th>\n",
       "      <td>jakob</td>\n",
       "      <td>jakobsen</td>\n",
       "      <td>7.96</td>\n",
       "      <td>7.51</td>\n",
       "      <td>0.45</td>\n",
       "      <td>novodra</td>\n",
       "      <td>28</td>\n",
       "      <td>26</td>\n",
       "      <td>hypoglycemia</td>\n",
       "    </tr>\n",
       "    <tr>\n",
       "      <th>349</th>\n",
       "      <td>berta</td>\n",
       "      <td>napolitani</td>\n",
       "      <td>7.68</td>\n",
       "      <td>7.21</td>\n",
       "      <td>0.47</td>\n",
       "      <td>novodra</td>\n",
       "      <td>42</td>\n",
       "      <td>44</td>\n",
       "      <td>injection site discomfort</td>\n",
       "    </tr>\n",
       "  </tbody>\n",
       "</table>\n",
       "<p>350 rows × 9 columns</p>\n",
       "</div>"
      ],
      "text/plain": [
       "      given_name     surname  hba1c_start  hba1c_end  hba1c_change variable  \\\n",
       "0       veronika    jindrová         7.63       7.20          0.43  auralin   \n",
       "1           skye  gormanston         7.97       7.62          0.35  auralin   \n",
       "2         sophia      haugen         7.65       7.27          0.38  auralin   \n",
       "3          eddie      archer         7.89       7.55          0.34  auralin   \n",
       "4           asia     woźniak         7.76       7.37          0.39  auralin   \n",
       "..           ...         ...          ...        ...           ...      ...   \n",
       "345  christopher    woodward         7.51       7.06          0.45  novodra   \n",
       "346        maret    sultygov         7.67       7.30          0.37  novodra   \n",
       "347        lixue       hsueh         9.21       8.80          0.41  novodra   \n",
       "348        jakob    jakobsen         7.96       7.51          0.45  novodra   \n",
       "349        berta  napolitani         7.68       7.21          0.47  novodra   \n",
       "\n",
       "    start_dosage end_dosage           adverse_reaction  \n",
       "0            41          48                        NaN  \n",
       "1            33          36                        NaN  \n",
       "2            37          42                        NaN  \n",
       "3            31          38                        NaN  \n",
       "4            30          36                        NaN  \n",
       "..           ...        ...                        ...  \n",
       "345          55          51                     nausea  \n",
       "346          26          23                        NaN  \n",
       "347          22          23  injection site discomfort  \n",
       "348          28          26               hypoglycemia  \n",
       "349          42          44  injection site discomfort  \n",
       "\n",
       "[350 rows x 9 columns]"
      ]
     },
     "execution_count": 284,
     "metadata": {},
     "output_type": "execute_result"
    }
   ],
   "source": [
    "# combining records of tables 'treatment_df' & 'adverse_reactions_df'\n",
    "treatment_df = treatment_df.merge(adverse_reactions_df,how='left',on=['given_name','surname'])\n",
    "treatment_df"
   ]
  },
  {
   "cell_type": "code",
   "execution_count": null,
   "metadata": {},
   "outputs": [],
   "source": []
  },
  {
   "cell_type": "code",
   "execution_count": null,
   "metadata": {},
   "outputs": [],
   "source": []
  }
 ],
 "metadata": {
  "kernelspec": {
   "display_name": "Python 3",
   "language": "python",
   "name": "python3"
  },
  "language_info": {
   "codemirror_mode": {
    "name": "ipython",
    "version": 3
   },
   "file_extension": ".py",
   "mimetype": "text/x-python",
   "name": "python",
   "nbconvert_exporter": "python",
   "pygments_lexer": "ipython3",
   "version": "3.10.11"
  },
  "orig_nbformat": 4
 },
 "nbformat": 4,
 "nbformat_minor": 2
}
